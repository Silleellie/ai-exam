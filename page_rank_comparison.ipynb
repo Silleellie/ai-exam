{
  "nbformat": 4,
  "nbformat_minor": 0,
  "metadata": {
    "colab": {
      "provenance": []
    },
    "kernelspec": {
      "name": "python3",
      "display_name": "Python 3"
    },
    "language_info": {
      "name": "python"
    }
  },
  "cells": [
    {
      "cell_type": "markdown",
      "source": [
        "# Page Rank comparison\n",
        "\n",
        "In the following, we provide the python implementation of the page rank algorithm used as reference for testing the correctness and robustness of our custom Prolog Page Rank implementation "
      ],
      "metadata": {
        "id": "lQpDCWuKkMDa"
      }
    },
    {
      "cell_type": "markdown",
      "source": [
        "## Custom NetworkX Page Rank implementation\n",
        "\n",
        "The only change w.r.t. official standard implementation is that the stopping criterion is **not** multiplied by the total number of nodes when checking for convergence"
      ],
      "metadata": {
        "id": "ly1mGVdBh-8N"
      }
    },
    {
      "cell_type": "code",
      "source": [
        "import networkx as nx\n",
        "\n",
        "def custom_pagerank_scipy(\n",
        "    G,\n",
        "    alpha=0.85,\n",
        "    personalization=None,\n",
        "    max_iter=100,\n",
        "    tol=1.0e-6,\n",
        "    nstart=None,\n",
        "    weight=\"weight\",\n",
        "    dangling=None,\n",
        "):\n",
        "    \"\"\"Returns the PageRank of the nodes in the graph.\n",
        "\n",
        "    PageRank computes a ranking of the nodes in the graph G based on\n",
        "    the structure of the incoming links. It was originally designed as\n",
        "    an algorithm to rank web pages.\n",
        "\n",
        "    Parameters\n",
        "    ----------\n",
        "    G : graph\n",
        "      A NetworkX graph.  Undirected graphs will be converted to a directed\n",
        "      graph with two directed edges for each undirected edge.\n",
        "\n",
        "    alpha : float, optional\n",
        "      Damping parameter for PageRank, default=0.85.\n",
        "\n",
        "    personalization: dict, optional\n",
        "      The \"personalization vector\" consisting of a dictionary with a\n",
        "      key some subset of graph nodes and personalization value each of those.\n",
        "      At least one personalization value must be non-zero.\n",
        "      If not specified, a nodes personalization value will be zero.\n",
        "      By default, a uniform distribution is used.\n",
        "\n",
        "    max_iter : integer, optional\n",
        "      Maximum number of iterations in power method eigenvalue solver.\n",
        "\n",
        "    tol : float, optional\n",
        "      Error tolerance used to check convergence in power method solver.\n",
        "      The iteration will stop after a tolerance of ``len(G) * tol`` is reached.\n",
        "\n",
        "    nstart : dictionary, optional\n",
        "      Starting value of PageRank iteration for each node.\n",
        "\n",
        "    weight : key, optional\n",
        "      Edge data key to use as weight.  If None weights are set to 1.\n",
        "\n",
        "    dangling: dict, optional\n",
        "      The outedges to be assigned to any \"dangling\" nodes, i.e., nodes without\n",
        "      any outedges. The dict key is the node the outedge points to and the dict\n",
        "      value is the weight of that outedge. By default, dangling nodes are given\n",
        "      outedges according to the personalization vector (uniform if not\n",
        "      specified) This must be selected to result in an irreducible transition\n",
        "      matrix (see notes under google_matrix). It may be common to have the\n",
        "      dangling dict to be the same as the personalization dict.\n",
        "\n",
        "    Returns\n",
        "    -------\n",
        "    pagerank : dictionary\n",
        "       Dictionary of nodes with PageRank as value\n",
        "\n",
        "    Examples\n",
        "    --------\n",
        "    >>> from networkx.algorithms.link_analysis.pagerank_alg import _pagerank_scipy\n",
        "    >>> G = nx.DiGraph(nx.path_graph(4))\n",
        "    >>> pr = _pagerank_scipy(G, alpha=0.9)\n",
        "\n",
        "    Notes\n",
        "    -----\n",
        "    The eigenvector calculation uses power iteration with a SciPy\n",
        "    sparse matrix representation.\n",
        "\n",
        "    This implementation works with Multi(Di)Graphs. For multigraphs the\n",
        "    weight between two nodes is set to be the sum of all edge weights\n",
        "    between those nodes.\n",
        "\n",
        "    See Also\n",
        "    --------\n",
        "    pagerank\n",
        "\n",
        "    Raises\n",
        "    ------\n",
        "    PowerIterationFailedConvergence\n",
        "        If the algorithm fails to converge to the specified tolerance\n",
        "        within the specified number of iterations of the power iteration\n",
        "        method.\n",
        "\n",
        "    References\n",
        "    ----------\n",
        "    .. [1] A. Langville and C. Meyer,\n",
        "       \"A survey of eigenvector methods of web information retrieval.\"\n",
        "       http://citeseer.ist.psu.edu/713792.html\n",
        "    .. [2] Page, Lawrence; Brin, Sergey; Motwani, Rajeev and Winograd, Terry,\n",
        "       The PageRank citation ranking: Bringing order to the Web. 1999\n",
        "       http://dbpubs.stanford.edu:8090/pub/showDoc.Fulltext?lang=en&doc=1999-66&format=pdf\n",
        "    \"\"\"\n",
        "    import numpy as np\n",
        "    import scipy as sp\n",
        "    import scipy.sparse  # call as sp.sparse\n",
        "\n",
        "    N = len(G)\n",
        "    if N == 0:\n",
        "        return {}\n",
        "\n",
        "    nodelist = list(G)\n",
        "    A = nx.to_scipy_sparse_array(G, nodelist=nodelist, weight=weight, dtype=float)\n",
        "    S = A.sum(axis=1)\n",
        "    S[S != 0] = 1.0 / S[S != 0]\n",
        "    # TODO: csr_array\n",
        "    Q = sp.sparse.csr_array(sp.sparse.spdiags(S.T, 0, *A.shape))\n",
        "    A = Q @ A\n",
        "\n",
        "    # initial vector\n",
        "    if nstart is None:\n",
        "        x = np.repeat(1.0 / N, N)\n",
        "    else:\n",
        "        x = np.array([nstart.get(n, 0) for n in nodelist], dtype=float)\n",
        "        x /= x.sum()\n",
        "\n",
        "    # Personalization vector\n",
        "    if personalization is None:\n",
        "        p = np.repeat(1.0 / N, N)\n",
        "    else:\n",
        "        p = np.array([personalization.get(n, 0) for n in nodelist], dtype=float)\n",
        "        if p.sum() == 0:\n",
        "            raise ZeroDivisionError\n",
        "        p /= p.sum()\n",
        "    # Dangling nodes\n",
        "    if dangling is None:\n",
        "        dangling_weights = p\n",
        "    else:\n",
        "        # Convert the dangling dictionary into an array in nodelist order\n",
        "        dangling_weights = np.array([dangling.get(n, 0) for n in nodelist], dtype=float)\n",
        "        dangling_weights /= dangling_weights.sum()\n",
        "    is_dangling = np.where(S == 0)[0]\n",
        "\n",
        "    # power iteration: make up to max_iter iterations\n",
        "    for _ in range(max_iter):\n",
        "        xlast = x\n",
        "        x = alpha * (x @ A + sum(x[is_dangling]) * dangling_weights) + (1 - alpha) * p\n",
        "        # check convergence, l1 norm\n",
        "        err = np.absolute(x - xlast).sum()\n",
        "        if err < tol:\n",
        "            return dict(zip(nodelist, map(float, x)))\n",
        "    raise nx.PowerIterationFailedConvergence(max_iter)"
      ],
      "metadata": {
        "id": "YXf9mrEMh7F3"
      },
      "execution_count": 2,
      "outputs": []
    },
    {
      "cell_type": "markdown",
      "source": [
        "## Upload GraphBrain instances in list-based formalism\n",
        "\n",
        "Simply run the below cell and select the GraphBrain exported instances after they have been translated in the list-based formalism by the KBRestruturer java class"
      ],
      "metadata": {
        "id": "Ruvu2ji7ivJQ"
      }
    },
    {
      "cell_type": "code",
      "source": [
        "from google.colab import files\n",
        "\n",
        "uploaded = files.upload()\n",
        "\n",
        "for fn in uploaded.keys():\n",
        "  print('User uploaded file \"{name}\" with length {length} bytes'.format(\n",
        "      name=fn, length=len(uploaded[fn])))"
      ],
      "metadata": {
        "colab": {
          "base_uri": "https://localhost:8080/",
          "height": 90
        },
        "id": "TH8he6a5irMG",
        "outputId": "df41d8d6-57c0-47ec-f390-f7edd1d6d108"
      },
      "execution_count": 3,
      "outputs": [
        {
          "output_type": "display_data",
          "data": {
            "text/plain": [
              "<IPython.core.display.HTML object>"
            ],
            "text/html": [
              "\n",
              "     <input type=\"file\" id=\"files-8b98a364-4d35-4084-9a1b-b198f3edb2d5\" name=\"files[]\" multiple disabled\n",
              "        style=\"border:none\" />\n",
              "     <output id=\"result-8b98a364-4d35-4084-9a1b-b198f3edb2d5\">\n",
              "      Upload widget is only available when the cell has been executed in the\n",
              "      current browser session. Please rerun this cell to enable.\n",
              "      </output>\n",
              "      <script>// Copyright 2017 Google LLC\n",
              "//\n",
              "// Licensed under the Apache License, Version 2.0 (the \"License\");\n",
              "// you may not use this file except in compliance with the License.\n",
              "// You may obtain a copy of the License at\n",
              "//\n",
              "//      http://www.apache.org/licenses/LICENSE-2.0\n",
              "//\n",
              "// Unless required by applicable law or agreed to in writing, software\n",
              "// distributed under the License is distributed on an \"AS IS\" BASIS,\n",
              "// WITHOUT WARRANTIES OR CONDITIONS OF ANY KIND, either express or implied.\n",
              "// See the License for the specific language governing permissions and\n",
              "// limitations under the License.\n",
              "\n",
              "/**\n",
              " * @fileoverview Helpers for google.colab Python module.\n",
              " */\n",
              "(function(scope) {\n",
              "function span(text, styleAttributes = {}) {\n",
              "  const element = document.createElement('span');\n",
              "  element.textContent = text;\n",
              "  for (const key of Object.keys(styleAttributes)) {\n",
              "    element.style[key] = styleAttributes[key];\n",
              "  }\n",
              "  return element;\n",
              "}\n",
              "\n",
              "// Max number of bytes which will be uploaded at a time.\n",
              "const MAX_PAYLOAD_SIZE = 100 * 1024;\n",
              "\n",
              "function _uploadFiles(inputId, outputId) {\n",
              "  const steps = uploadFilesStep(inputId, outputId);\n",
              "  const outputElement = document.getElementById(outputId);\n",
              "  // Cache steps on the outputElement to make it available for the next call\n",
              "  // to uploadFilesContinue from Python.\n",
              "  outputElement.steps = steps;\n",
              "\n",
              "  return _uploadFilesContinue(outputId);\n",
              "}\n",
              "\n",
              "// This is roughly an async generator (not supported in the browser yet),\n",
              "// where there are multiple asynchronous steps and the Python side is going\n",
              "// to poll for completion of each step.\n",
              "// This uses a Promise to block the python side on completion of each step,\n",
              "// then passes the result of the previous step as the input to the next step.\n",
              "function _uploadFilesContinue(outputId) {\n",
              "  const outputElement = document.getElementById(outputId);\n",
              "  const steps = outputElement.steps;\n",
              "\n",
              "  const next = steps.next(outputElement.lastPromiseValue);\n",
              "  return Promise.resolve(next.value.promise).then((value) => {\n",
              "    // Cache the last promise value to make it available to the next\n",
              "    // step of the generator.\n",
              "    outputElement.lastPromiseValue = value;\n",
              "    return next.value.response;\n",
              "  });\n",
              "}\n",
              "\n",
              "/**\n",
              " * Generator function which is called between each async step of the upload\n",
              " * process.\n",
              " * @param {string} inputId Element ID of the input file picker element.\n",
              " * @param {string} outputId Element ID of the output display.\n",
              " * @return {!Iterable<!Object>} Iterable of next steps.\n",
              " */\n",
              "function* uploadFilesStep(inputId, outputId) {\n",
              "  const inputElement = document.getElementById(inputId);\n",
              "  inputElement.disabled = false;\n",
              "\n",
              "  const outputElement = document.getElementById(outputId);\n",
              "  outputElement.innerHTML = '';\n",
              "\n",
              "  const pickedPromise = new Promise((resolve) => {\n",
              "    inputElement.addEventListener('change', (e) => {\n",
              "      resolve(e.target.files);\n",
              "    });\n",
              "  });\n",
              "\n",
              "  const cancel = document.createElement('button');\n",
              "  inputElement.parentElement.appendChild(cancel);\n",
              "  cancel.textContent = 'Cancel upload';\n",
              "  const cancelPromise = new Promise((resolve) => {\n",
              "    cancel.onclick = () => {\n",
              "      resolve(null);\n",
              "    };\n",
              "  });\n",
              "\n",
              "  // Wait for the user to pick the files.\n",
              "  const files = yield {\n",
              "    promise: Promise.race([pickedPromise, cancelPromise]),\n",
              "    response: {\n",
              "      action: 'starting',\n",
              "    }\n",
              "  };\n",
              "\n",
              "  cancel.remove();\n",
              "\n",
              "  // Disable the input element since further picks are not allowed.\n",
              "  inputElement.disabled = true;\n",
              "\n",
              "  if (!files) {\n",
              "    return {\n",
              "      response: {\n",
              "        action: 'complete',\n",
              "      }\n",
              "    };\n",
              "  }\n",
              "\n",
              "  for (const file of files) {\n",
              "    const li = document.createElement('li');\n",
              "    li.append(span(file.name, {fontWeight: 'bold'}));\n",
              "    li.append(span(\n",
              "        `(${file.type || 'n/a'}) - ${file.size} bytes, ` +\n",
              "        `last modified: ${\n",
              "            file.lastModifiedDate ? file.lastModifiedDate.toLocaleDateString() :\n",
              "                                    'n/a'} - `));\n",
              "    const percent = span('0% done');\n",
              "    li.appendChild(percent);\n",
              "\n",
              "    outputElement.appendChild(li);\n",
              "\n",
              "    const fileDataPromise = new Promise((resolve) => {\n",
              "      const reader = new FileReader();\n",
              "      reader.onload = (e) => {\n",
              "        resolve(e.target.result);\n",
              "      };\n",
              "      reader.readAsArrayBuffer(file);\n",
              "    });\n",
              "    // Wait for the data to be ready.\n",
              "    let fileData = yield {\n",
              "      promise: fileDataPromise,\n",
              "      response: {\n",
              "        action: 'continue',\n",
              "      }\n",
              "    };\n",
              "\n",
              "    // Use a chunked sending to avoid message size limits. See b/62115660.\n",
              "    let position = 0;\n",
              "    do {\n",
              "      const length = Math.min(fileData.byteLength - position, MAX_PAYLOAD_SIZE);\n",
              "      const chunk = new Uint8Array(fileData, position, length);\n",
              "      position += length;\n",
              "\n",
              "      const base64 = btoa(String.fromCharCode.apply(null, chunk));\n",
              "      yield {\n",
              "        response: {\n",
              "          action: 'append',\n",
              "          file: file.name,\n",
              "          data: base64,\n",
              "        },\n",
              "      };\n",
              "\n",
              "      let percentDone = fileData.byteLength === 0 ?\n",
              "          100 :\n",
              "          Math.round((position / fileData.byteLength) * 100);\n",
              "      percent.textContent = `${percentDone}% done`;\n",
              "\n",
              "    } while (position < fileData.byteLength);\n",
              "  }\n",
              "\n",
              "  // All done.\n",
              "  yield {\n",
              "    response: {\n",
              "      action: 'complete',\n",
              "    }\n",
              "  };\n",
              "}\n",
              "\n",
              "scope.google = scope.google || {};\n",
              "scope.google.colab = scope.google.colab || {};\n",
              "scope.google.colab._files = {\n",
              "  _uploadFiles,\n",
              "  _uploadFilesContinue,\n",
              "};\n",
              "})(self);\n",
              "</script> "
            ]
          },
          "metadata": {}
        },
        {
          "output_type": "stream",
          "name": "stdout",
          "text": [
            "Saving list_exportedGraph.pl to list_exportedGraph.pl\n",
            "User uploaded file \"list_exportedGraph.pl\" with length 108654977 bytes\n"
          ]
        }
      ]
    },
    {
      "cell_type": "markdown",
      "source": [
        "## Scan the whole file to identify nodes and arcs"
      ],
      "metadata": {
        "id": "lEU6cYmVj2EU"
      }
    },
    {
      "cell_type": "code",
      "execution_count": 4,
      "metadata": {
        "id": "HdjU30yDhIQS"
      },
      "outputs": [],
      "source": [
        "import re\n",
        "\n",
        "# change this if the file uploaded has a different name\n",
        "FILE_NAME = \"list_exportedGraph.pl\"\n",
        "\n",
        "nodes = []\n",
        "arcs = []\n",
        "\n",
        "with open(FILE_NAME, \"r\", encoding='utf-8') as f:\n",
        "    for line in f:\n",
        "        match = re.match(\"node_properties\\\\(([0-9]+),\\\\s*\\[(.+)]\\\\)\\\\.\", line)\n",
        "        if match:\n",
        "            nodes.append(match.group(1))\n",
        "\n",
        "        match = re.match(\"arc\\\\(([0-9]+),\\\\s*([0-9]+),\\\\s*([0-9]+)\\\\)\\\\.\", line)\n",
        "        if match:\n",
        "            arcs.append((match.group(2), match.group(3)))\n"
      ]
    },
    {
      "cell_type": "markdown",
      "source": [
        "## Create graph"
      ],
      "metadata": {
        "id": "9VkcAC0sj-HX"
      }
    },
    {
      "cell_type": "code",
      "source": [
        "graph = nx.DiGraph()\n",
        "\n",
        "for node in nodes:\n",
        "    graph.add_node(int(node))\n",
        "\n",
        "for (node_0, node_1) in arcs:\n",
        "    graph.add_edge(int(node_0), int(node_1))"
      ],
      "metadata": {
        "id": "bhCGpUcdhkIQ"
      },
      "execution_count": 5,
      "outputs": []
    },
    {
      "cell_type": "markdown",
      "source": [
        "## Run classical page rank"
      ],
      "metadata": {
        "id": "gY1REOXOpx-D"
      }
    },
    {
      "cell_type": "code",
      "source": [
        "page_rank_dict = custom_pagerank_scipy(\n",
        "    graph,\n",
        "    alpha=0.85,\n",
        "    max_iter=100\n",
        ")\n",
        "\n",
        "print(\"Page Rank for nodes 0, 1, 457:\")\n",
        "print(f\"0 - {page_rank_dict[0]}\")\n",
        "print(f\"1 - {page_rank_dict[1]}\")\n",
        "print(f\"457 - {page_rank_dict[457]}\")"
      ],
      "metadata": {
        "colab": {
          "base_uri": "https://localhost:8080/"
        },
        "id": "O9Fr8lMhpyhT",
        "outputId": "6c5d1327-a33c-4555-effa-6e1ea8e321ca"
      },
      "execution_count": 6,
      "outputs": [
        {
          "output_type": "stream",
          "name": "stdout",
          "text": [
            "Page Rank for nodes 0, 1, 457:\n",
            "0 - 8.919201525861478e-07\n",
            "1 - 2.028072967268872e-06\n",
            "457 - 1.1809186304811592e-06\n"
          ]
        }
      ]
    },
    {
      "cell_type": "markdown",
      "source": [
        "## Run Page Rank with custom start vector and personalization vector"
      ],
      "metadata": {
        "id": "L-qo6eK1psvB"
      }
    },
    {
      "cell_type": "code",
      "source": [
        "page_rank_dict = custom_pagerank_scipy(\n",
        "    graph,\n",
        "    alpha=0.85,\n",
        "    max_iter=100,\n",
        "    tol=0.000001,\n",
        "    nstart={0: 5.0, 2: 3.2, 6: 2.4},\n",
        "    personalization={15: 3.1, 67: 2.3, 457: 0.5}\n",
        ")\n",
        "\n",
        "print(\"Page Rank for nodes 0, 1, 457:\")\n",
        "print(f\"0 - {page_rank_dict[0]}\")\n",
        "print(f\"1 - {page_rank_dict[1]}\")\n",
        "print(f\"457 - {page_rank_dict[457]}\")"
      ],
      "metadata": {
        "colab": {
          "base_uri": "https://localhost:8080/"
        },
        "id": "6OUzIa2YlNTf",
        "outputId": "a6ac2d69-83b5-447e-8844-549b22a0981f"
      },
      "execution_count": 7,
      "outputs": [
        {
          "output_type": "stream",
          "name": "stdout",
          "text": [
            "Page Rank for nodes 0, 1, 457:\n",
            "0 - 0.0\n",
            "1 - 0.0\n",
            "457 - 0.024468298460878633\n"
          ]
        }
      ]
    }
  ]
}